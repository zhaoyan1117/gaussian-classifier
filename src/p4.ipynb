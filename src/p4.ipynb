{
 "metadata": {
  "name": "",
  "signature": "sha256:acd18dbd6dfe8df45adf27942f9afec429d73f57117dd1e3340db8de287f0c75"
 },
 "nbformat": 3,
 "nbformat_minor": 0,
 "worksheets": [
  {
   "cells": [
    {
     "cell_type": "heading",
     "level": 1,
     "metadata": {},
     "source": [
      "Import library"
     ]
    },
    {
     "cell_type": "code",
     "collapsed": false,
     "input": [
      "%matplotlib inline\n",
      "\n",
      "import os, time\n",
      "import csv\n",
      "import numpy as np\n",
      "from scipy import io\n",
      "from scipy.stats import multivariate_normal\n",
      "import matplotlib\n",
      "import matplotlib.pyplot as plt\n",
      "\n",
      "matplotlib.rcParams['xtick.direction'] = 'out'\n",
      "matplotlib.rcParams['ytick.direction'] = 'out'\n",
      "\n",
      "fig_directory = '../figures'\n",
      "if not os.path.exists(fig_directory):\n",
      "    os.makedirs(fig_directory)\n",
      "\n",
      "save_fig = True\n",
      "fig_size = (6, 4.5)\n",
      "fig_dpi = 200"
     ],
     "language": "python",
     "metadata": {},
     "outputs": [],
     "prompt_number": 3
    },
    {
     "cell_type": "heading",
     "level": 1,
     "metadata": {},
     "source": [
      "Load data"
     ]
    },
    {
     "cell_type": "code",
     "collapsed": false,
     "input": [
      "train_data_path = \"../data/digit-dataset/train.mat\"\n",
      "train_data = io.loadmat(train_data_path)"
     ],
     "language": "python",
     "metadata": {},
     "outputs": [],
     "prompt_number": 2
    },
    {
     "cell_type": "heading",
     "level": 1,
     "metadata": {},
     "source": [
      "Build data processing function"
     ]
    },
    {
     "cell_type": "code",
     "collapsed": false,
     "input": [
      "def process(image):\n",
      "    raveled = image.ravel()\n",
      "    norm = np.linalg.norm(raveled)\n",
      "    if norm:\n",
      "        return raveled / np.linalg.norm(raveled)\n",
      "    else:\n",
      "        return raveled"
     ],
     "language": "python",
     "metadata": {},
     "outputs": [],
     "prompt_number": 3
    },
    {
     "cell_type": "heading",
     "level": 1,
     "metadata": {},
     "source": [
      "Process data"
     ]
    },
    {
     "cell_type": "code",
     "collapsed": false,
     "input": [
      "assert len(train_data['train_image'][0][0]) == len(train_data['train_label'])\n",
      "train_data_size = len(train_data['train_image'][0][0])\n",
      "train_images = np.array([process(train_data['train_image'][:,:,i]) for i in xrange(train_data_size)])\n",
      "train_labels = np.array([train_data['train_label'][i][0] for i in xrange(train_data_size)])"
     ],
     "language": "python",
     "metadata": {},
     "outputs": [],
     "prompt_number": 4
    },
    {
     "cell_type": "heading",
     "level": 1,
     "metadata": {},
     "source": [
      "Group data based on label classes"
     ]
    },
    {
     "cell_type": "code",
     "collapsed": false,
     "input": [
      "grouped_train_images = {}\n",
      "for digit in range(10):\n",
      "    grouped_train_images[digit] = train_images[train_labels == digit]"
     ],
     "language": "python",
     "metadata": {},
     "outputs": [],
     "prompt_number": 5
    },
    {
     "cell_type": "heading",
     "level": 1,
     "metadata": {},
     "source": [
      "MLE"
     ]
    },
    {
     "cell_type": "code",
     "collapsed": false,
     "input": [
      "distributions = {}\n",
      "covs = {}\n",
      "means = {}\n",
      "for digit in grouped_train_images:\n",
      "    means[digit] = np.mean(grouped_train_images[digit], axis=0)\n",
      "    covs[digit] = np.cov(grouped_train_images[digit], rowvar=0)\n",
      "    adjusted_cov = covs[digit] + 0.001 * np.identity(covs[digit].shape[0])\n",
      "    distributions[digit] = multivariate_normal(means[digit], adjusted_cov)"
     ],
     "language": "python",
     "metadata": {},
     "outputs": [],
     "prompt_number": 6
    },
    {
     "cell_type": "heading",
     "level": 1,
     "metadata": {},
     "source": [
      "Prior distribution"
     ]
    },
    {
     "cell_type": "code",
     "collapsed": false,
     "input": [
      "prior = {}\n",
      "for digit in range(10):\n",
      "    total_size = train_labels.size\n",
      "    digit_size = train_labels[train_labels == digit].size\n",
      "    prior[digit] = digit_size / float(total_size)"
     ],
     "language": "python",
     "metadata": {},
     "outputs": [],
     "prompt_number": 7
    },
    {
     "cell_type": "heading",
     "level": 1,
     "metadata": {},
     "source": [
      "Plot heatmap of covariance matrix"
     ]
    },
    {
     "cell_type": "code",
     "collapsed": false,
     "input": [
      "def plot_cov_mat_heatmap(digit):\n",
      "    fig = plt.figure()\n",
      "    plt.grid()\n",
      "    plt.imshow(covs[digit])\n",
      "    cb = plt.colorbar()\n",
      "    plt.show()\n",
      "    fig.savefig('{0}/p4_heatmap_{1}.png'.format(fig_directory, digit), \n",
      "                dpi=fig_dpi,\n",
      "                bbox_inches='tight')"
     ],
     "language": "python",
     "metadata": {},
     "outputs": [],
     "prompt_number": 8
    },
    {
     "cell_type": "code",
     "collapsed": false,
     "input": [
      "plot_cov_mat_heatmap(0)"
     ],
     "language": "python",
     "metadata": {},
     "outputs": [
      {
       "metadata": {},
       "output_type": "display_data",
       "png": "[encoded data removed]",
       "text": [
        "<matplotlib.figure.Figure at 0x110637d90>"
       ]
      }
     ],
     "prompt_number": 9
    },
    {
     "cell_type": "code",
     "collapsed": false,
     "input": [
      "plot_cov_mat_heatmap(6)"
     ],
     "language": "python",
     "metadata": {},
     "outputs": [
      {
       "metadata": {},
       "output_type": "display_data",
       "png": "[encoded data removed]",
       "text": [
        "<matplotlib.figure.Figure at 0x10f099350>"
       ]
      }
     ],
     "prompt_number": 10
    },
    {
     "cell_type": "heading",
     "level": 1,
     "metadata": {},
     "source": [
      "Gaussian classifier using $\\Sigma_{i}$ for each class"
     ]
    },
    {
     "cell_type": "code",
     "collapsed": false,
     "input": [
      "from gaussian_classifier import GaussianClassifier"
     ],
     "language": "python",
     "metadata": {},
     "outputs": [],
     "prompt_number": 11
    },
    {
     "cell_type": "heading",
     "level": 1,
     "metadata": {},
     "source": [
      "Gaussian classifier using $\\Sigma_{overall}$"
     ]
    },
    {
     "cell_type": "code",
     "collapsed": false,
     "input": [
      "from gaussian_classifier import SameCovGaussianClassifier"
     ],
     "language": "python",
     "metadata": {},
     "outputs": [],
     "prompt_number": 12
    },
    {
     "cell_type": "heading",
     "level": 1,
     "metadata": {},
     "source": [
      "Train Classifier with different sizes"
     ]
    },
    {
     "cell_type": "code",
     "collapsed": false,
     "input": [
      "randomize_indices = np.random.permutation(train_data_size)\n",
      "data_sizes = [100, 200, 500, 1000, 2000, 5000, 10000, 30000, 60000]\n",
      "\n",
      "classifiers_by_sizes = {}\n",
      "same_sov_classifiers_by_sizes = {}\n",
      "\n",
      "for size in data_sizes:\n",
      "    images = train_images[randomize_indices[:size]]\n",
      "    labels = train_labels[randomize_indices[:size]]\n",
      "    \n",
      "    # Train $\\Sigma_{i}$ classifier\n",
      "    classifier = GaussianClassifier()\n",
      "    classifier.fit(images, labels)\n",
      "    classifiers_by_sizes[size] = classifier\n",
      "    \n",
      "    # Train $\\Sigma_{overall}$ classifier\n",
      "    same_cov_classifier = SameCovGaussianClassifier()\n",
      "    same_cov_classifier.fit(images, labels)\n",
      "    same_sov_classifiers_by_sizes[size] = same_cov_classifier"
     ],
     "language": "python",
     "metadata": {},
     "outputs": [
      {
       "output_type": "stream",
       "stream": "stdout",
       "text": [
        "Finish training with data size 100 , takes 2.08 seconds\n",
        "Finish training with data size 100 , takes 0.89 seconds"
       ]
      },
      {
       "output_type": "stream",
       "stream": "stdout",
       "text": [
        "\n",
        "Finish training with data size 200 , takes 1.8 seconds"
       ]
      },
      {
       "output_type": "stream",
       "stream": "stdout",
       "text": [
        "\n",
        "Finish training with data size 200 , takes 0.87 seconds"
       ]
      },
      {
       "output_type": "stream",
       "stream": "stdout",
       "text": [
        "\n",
        "Finish training with data size 500 , takes 1.89 seconds"
       ]
      },
      {
       "output_type": "stream",
       "stream": "stdout",
       "text": [
        "\n",
        "Finish training with data size 500 , takes 1.0 seconds"
       ]
      },
      {
       "output_type": "stream",
       "stream": "stdout",
       "text": [
        "\n",
        "Finish training with data size 1000 , takes 1.89 seconds"
       ]
      },
      {
       "output_type": "stream",
       "stream": "stdout",
       "text": [
        "\n",
        "Finish training with data size 1000 , takes 1.04 seconds"
       ]
      },
      {
       "output_type": "stream",
       "stream": "stdout",
       "text": [
        "\n",
        "Finish training with data size 2000 , takes 1.84 seconds"
       ]
      },
      {
       "output_type": "stream",
       "stream": "stdout",
       "text": [
        "\n",
        "Finish training with data size 2000 , takes 1.16 seconds"
       ]
      },
      {
       "output_type": "stream",
       "stream": "stdout",
       "text": [
        "\n",
        "Finish training with data size 5000 , takes 1.9 seconds"
       ]
      },
      {
       "output_type": "stream",
       "stream": "stdout",
       "text": [
        "\n",
        "Finish training with data size 5000 , takes 1.1 seconds"
       ]
      },
      {
       "output_type": "stream",
       "stream": "stdout",
       "text": [
        "\n",
        "Finish training with data size 10000 , takes 1.92 seconds"
       ]
      },
      {
       "output_type": "stream",
       "stream": "stdout",
       "text": [
        "\n",
        "Finish training with data size 10000 , takes 1.16 seconds"
       ]
      },
      {
       "output_type": "stream",
       "stream": "stdout",
       "text": [
        "\n",
        "Finish training with data size 30000 , takes 2.17 seconds"
       ]
      },
      {
       "output_type": "stream",
       "stream": "stdout",
       "text": [
        "\n",
        "Finish training with data size 30000 , takes 1.53 seconds"
       ]
      },
      {
       "output_type": "stream",
       "stream": "stdout",
       "text": [
        "\n",
        "Finish training with data size 60000 , takes 2.61 seconds"
       ]
      },
      {
       "output_type": "stream",
       "stream": "stdout",
       "text": [
        "\n",
        "Finish training with data size 60000 , takes 1.83 seconds"
       ]
      },
      {
       "output_type": "stream",
       "stream": "stdout",
       "text": [
        "\n"
       ]
      }
     ],
     "prompt_number": 13
    },
    {
     "cell_type": "heading",
     "level": 1,
     "metadata": {},
     "source": [
      "Load and prepare test data"
     ]
    },
    {
     "cell_type": "code",
     "collapsed": false,
     "input": [
      "test_data_path = \"../data/digit-dataset/test.mat\"\n",
      "test_data = io.loadmat(test_data_path)\n",
      "\n",
      "assert len(test_data['test_image'][0][0]) == len(test_data['test_label'])\n",
      "test_data_size = len(test_data['test_image'][0][0])\n",
      "test_images = np.array([process(test_data['test_image'][:,:,i]) for i in xrange(test_data_size)])\n",
      "test_labels = np.array([test_data['test_label'][i][0] for i in xrange(test_data_size)])"
     ],
     "language": "python",
     "metadata": {},
     "outputs": [],
     "prompt_number": 14
    },
    {
     "cell_type": "heading",
     "level": 1,
     "metadata": {},
     "source": [
      "Calculate correct rate"
     ]
    },
    {
     "cell_type": "code",
     "collapsed": true,
     "input": [
      "classifiers_cr = []\n",
      "same_cov_classifiers_cr = []\n",
      "\n",
      "for size in data_sizes:\n",
      "    cr = classifiers_by_sizes[size].correct_rate(test_images, test_labels)\n",
      "    sccr = same_sov_classifiers_by_sizes[size].correct_rate(test_images, test_labels)\n",
      "    classifiers_cr.append(cr)\n",
      "    same_cov_classifiers_cr.append(sccr)\n",
      "    print \"Sigma_i: {0} | Sigma_overall: {1} | Size: {2}\".format(cr, sccr, size)"
     ],
     "language": "python",
     "metadata": {},
     "outputs": [
      {
       "output_type": "stream",
       "stream": "stdout",
       "text": [
        "Sigma_i: 0.44 | Sigma_overall: 0.17 | Size: 100\n",
        "Sigma_i: 0.73 | Sigma_overall: 0.15 | Size: 200"
       ]
      },
      {
       "output_type": "stream",
       "stream": "stdout",
       "text": [
        "\n",
        "Sigma_i: 0.88 | Sigma_overall: 0.15 | Size: 500"
       ]
      },
      {
       "output_type": "stream",
       "stream": "stdout",
       "text": [
        "\n",
        "Sigma_i: 0.89 | Sigma_overall: 0.1 | Size: 1000"
       ]
      },
      {
       "output_type": "stream",
       "stream": "stdout",
       "text": [
        "\n",
        "Sigma_i: 0.87 | Sigma_overall: 0.09 | Size: 2000"
       ]
      },
      {
       "output_type": "stream",
       "stream": "stdout",
       "text": [
        "\n",
        "Sigma_i: 0.67 | Sigma_overall: 0.09 | Size: 5000"
       ]
      },
      {
       "output_type": "stream",
       "stream": "stdout",
       "text": [
        "\n",
        "Sigma_i: 0.75 | Sigma_overall: 0.15 | Size: 10000"
       ]
      },
      {
       "output_type": "stream",
       "stream": "stdout",
       "text": [
        "\n",
        "Sigma_i: 0.71 | Sigma_overall: 0.09 | Size: 30000"
       ]
      },
      {
       "output_type": "stream",
       "stream": "stdout",
       "text": [
        "\n",
        "Sigma_i: 0.65 | Sigma_overall: 0.09 | Size: 60000"
       ]
      },
      {
       "output_type": "stream",
       "stream": "stdout",
       "text": [
        "\n"
       ]
      }
     ],
     "prompt_number": 15
    },
    {
     "cell_type": "code",
     "collapsed": false,
     "input": [
      "# Plot correct rate of $\\Sigma_{i}$ classifier\n",
      "fig = plt.figure()\n",
      "plt.plot(data_sizes, classifiers_cr,\n",
      "         color='red', marker='o', \n",
      "         markerfacecolor='blue', linewidth=1.0)\n",
      "plt.xlabel('Training set size')\n",
      "plt.ylabel('Accuracy')\n",
      "plt.title('Sigma_i classifier')\n",
      "plt.show()\n",
      "fig.savefig('{0}/p4_accuracy_sigmai.png'.format(fig_directory), \n",
      "            dpi=fig_dpi,\n",
      "            bbox_inches='tight')\n",
      "\n",
      "# Plot correct rate of $\\Sigma_{overall}$ classifier\n",
      "fig = plt.figure()\n",
      "plt.plot(data_sizes, same_cov_classifiers_cr,\n",
      "         color='red', marker='o', \n",
      "         markerfacecolor='blue', linewidth=1.0)\n",
      "plt.xlabel('Training set size')\n",
      "plt.ylabel('Accuracy')\n",
      "plt.title('Sigma_overall classifier')\n",
      "plt.show()\n",
      "fig.savefig('{0}/p4_accuracy_sigma_overall.png'.format(fig_directory), \n",
      "            dpi=fig_dpi,\n",
      "            bbox_inches='tight')"
     ],
     "language": "python",
     "metadata": {},
     "outputs": [
      {
       "metadata": {},
       "output_type": "display_data",
       "png": "[encoded data removed]",
       "text": [
        "<matplotlib.figure.Figure at 0x110781b50>"
       ]
      },
      {
       "metadata": {},
       "output_type": "display_data",
       "png": "[encoded data removed]",
       "text": [
        "<matplotlib.figure.Figure at 0x10c2bbfd0>"
       ]
      }
     ],
     "prompt_number": 16
    },
    {
     "cell_type": "heading",
     "level": 1,
     "metadata": {},
     "source": [
      "Load and prepare Kaggle data"
     ]
    },
    {
     "cell_type": "code",
     "collapsed": false,
     "input": [
      "kaggle_data_path = \"../data/digit-dataset/kaggle.mat\"\n",
      "kaggle_data = io.loadmat(kaggle_data_path)\n",
      "\n",
      "kaggle_data_size = len(kaggle_data['kaggle_image'][0][0])\n",
      "kaggle_images = np.array([process(kaggle_data['kaggle_image'][:,:,i]) for i in xrange(kaggle_data_size)])"
     ],
     "language": "python",
     "metadata": {},
     "outputs": [],
     "prompt_number": 17
    },
    {
     "cell_type": "heading",
     "level": 1,
     "metadata": {},
     "source": [
      "Build Kaggle classifier and predict results "
     ]
    },
    {
     "cell_type": "code",
     "collapsed": false,
     "input": [
      "kaggle_train_data_size = 1000\n",
      "\n",
      "kaggle_classifier = GaussianClassifier()\n",
      "kaggle_classifier.fit(train_images[randomize_indices[:kaggle_train_data_size]],\n",
      "                      train_labels[randomize_indices[:kaggle_train_data_size]])\n",
      "\n",
      "kaggle_classifier_cr = kaggle_classifier.correct_rate(test_images, test_labels)\n",
      "print \"Kaggle classifier has correct rate {0} with test data.\".format(kaggle_classifier_cr)\n",
      "\n",
      "kaggle_result = kaggle_classifier.predicate(kaggle_images)"
     ],
     "language": "python",
     "metadata": {},
     "outputs": [
      {
       "output_type": "stream",
       "stream": "stdout",
       "text": [
        "Finish training with data size 1000 , takes 2.18 seconds\n",
        "Kaggle classifier has correct rate 0.89 with test data."
       ]
      },
      {
       "output_type": "stream",
       "stream": "stdout",
       "text": [
        "\n"
       ]
      }
     ],
     "prompt_number": 18
    },
    {
     "cell_type": "heading",
     "level": 1,
     "metadata": {},
     "source": [
      "Create output directory"
     ]
    },
    {
     "cell_type": "code",
     "collapsed": false,
     "input": [
      "output_dir = '../output'\n",
      "if not os.path.exists(output_dir):\n",
      "    os.makedirs(output_dir)"
     ],
     "language": "python",
     "metadata": {},
     "outputs": [],
     "prompt_number": 4
    },
    {
     "cell_type": "heading",
     "level": 1,
     "metadata": {},
     "source": [
      "Output result to csv file"
     ]
    },
    {
     "cell_type": "code",
     "collapsed": false,
     "input": [
      "kaggle_result_path = '{0}/p4_kaggle_result.csv'.format(output_dir)\n",
      "with open(kaggle_result_path, 'w') as fp:\n",
      "    writer = csv.writer(fp, delimiter=',')\n",
      "    writer.writerow(['Id', 'Category'])\n",
      "    for i in xrange(len(kaggle_result)):\n",
      "        writer.writerow([i+1, int(kaggle_result[i])])"
     ],
     "language": "python",
     "metadata": {},
     "outputs": [],
     "prompt_number": 19
    },
    {
     "cell_type": "heading",
     "level": 1,
     "metadata": {},
     "source": [
      "Kaggle for spam"
     ]
    },
    {
     "cell_type": "code",
     "collapsed": false,
     "input": [
      "spam_data_path = \"../data/spam-dataset/spam_data.mat\"\n",
      "spam_data = io.loadmat(spam_data_path)"
     ],
     "language": "python",
     "metadata": {},
     "outputs": [],
     "prompt_number": 20
    },
    {
     "cell_type": "code",
     "collapsed": false,
     "input": [
      "spam_training_data = spam_data['training_data']\n",
      "spam_training_labels = spam_data['training_labels'][0]\n",
      "assert len(spam_training_data) == len(spam_training_labels)\n",
      "spam_training_data_size = len(spam_training_data)\n",
      "spam_randomize_indices = np.random.permutation(spam_training_data_size)"
     ],
     "language": "python",
     "metadata": {},
     "outputs": [],
     "prompt_number": 21
    },
    {
     "cell_type": "code",
     "collapsed": false,
     "input": [
      "spam_validation_set_size = 1172\n",
      "spam_validation_set_data = spam_training_data[spam_randomize_indices[-spam_validation_set_size:]]\n",
      "spam_validation_set_labels = spam_training_labels[spam_randomize_indices[-spam_validation_set_size:]]"
     ],
     "language": "python",
     "metadata": {},
     "outputs": [],
     "prompt_number": 22
    },
    {
     "cell_type": "code",
     "collapsed": false,
     "input": [
      "spam_data_sizes = [100, 200, 500, 1000, 2000, 3000, 4000]\n",
      "\n",
      "spam_classifiers_by_sizes = {}\n",
      "\n",
      "for size in spam_data_sizes:\n",
      "    data = spam_training_data[spam_randomize_indices[:size]]\n",
      "    labels = spam_training_labels[spam_randomize_indices[:size]]\n",
      "    classifier = GaussianClassifier()\n",
      "    classifier.fit(data, labels)\n",
      "    spam_classifiers_by_sizes[size] = classifier"
     ],
     "language": "python",
     "metadata": {},
     "outputs": [
      {
       "output_type": "stream",
       "stream": "stdout",
       "text": [
        "Finish training with data size 100 , takes 0.0 seconds\n",
        "Finish training with data size 200 , takes 0.0 seconds\n",
        "Finish training with data size 500 , takes 0.0 seconds\n",
        "Finish training with data size 1000 , takes 0.0 seconds\n",
        "Finish training with data size 2000 , takes 0.0 seconds\n",
        "Finish training with data size 3000 , takes 0.0 seconds\n",
        "Finish training with data size 4000 , takes 0.0 seconds\n"
       ]
      }
     ],
     "prompt_number": 23
    },
    {
     "cell_type": "code",
     "collapsed": false,
     "input": [
      "best_cr = float('-inf')\n",
      "best_size = None\n",
      "for size in spam_data_sizes:\n",
      "    cr = spam_classifiers_by_sizes[size].correct_rate(spam_validation_set_data, \n",
      "                                                      spam_validation_set_labels)\n",
      "    print \"Correct rate: {0} | Size: {1}\".format(cr, size)\n",
      "    if cr > best_cr:\n",
      "        best_cr = cr\n",
      "        best_size = size\n",
      "\n",
      "spam_kaggle_classifier = spam_classifiers_by_sizes[best_size]"
     ],
     "language": "python",
     "metadata": {},
     "outputs": [
      {
       "output_type": "stream",
       "stream": "stdout",
       "text": [
        "Correct rate: 0.77 | Size: 100\n",
        "Correct rate: 0.78 | Size: 200\n",
        "Correct rate: 0.78 | Size: 500"
       ]
      },
      {
       "output_type": "stream",
       "stream": "stdout",
       "text": [
        "\n",
        "Correct rate: 0.78 | Size: 1000\n",
        "Correct rate: 0.77 | Size: 2000"
       ]
      },
      {
       "output_type": "stream",
       "stream": "stdout",
       "text": [
        "\n",
        "Correct rate: 0.78 | Size: 3000\n",
        "Correct rate: 0.78 | Size: 4000"
       ]
      },
      {
       "output_type": "stream",
       "stream": "stdout",
       "text": [
        "\n"
       ]
      }
     ],
     "prompt_number": 24
    },
    {
     "cell_type": "code",
     "collapsed": false,
     "input": [
      "spam_kaggle_data = spam_data['test_data']\n",
      "spam_kaggle_result = spam_kaggle_classifier.predicate(spam_kaggle_data)"
     ],
     "language": "python",
     "metadata": {},
     "outputs": [],
     "prompt_number": 25
    },
    {
     "cell_type": "code",
     "collapsed": false,
     "input": [
      "spam_kaggle_result_path = '{0}/p4_spam_kaggle_result.csv'.format(output_dir)\n",
      "with open(spam_kaggle_result_path, 'w') as fp:\n",
      "    writer = csv.writer(fp, delimiter=',')\n",
      "    writer.writerow(['Id', 'Category'])\n",
      "    for i in xrange(len(spam_kaggle_result)):\n",
      "        writer.writerow([i+1, int(spam_kaggle_result[i])])"
     ],
     "language": "python",
     "metadata": {},
     "outputs": [],
     "prompt_number": 26
    },
    {
     "cell_type": "code",
     "collapsed": false,
     "input": [],
     "language": "python",
     "metadata": {},
     "outputs": [],
     "prompt_number": 26
    }
   ],
   "metadata": {}
  }
 ]
}