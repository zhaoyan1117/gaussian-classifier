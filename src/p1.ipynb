{
 "metadata": {
  "name": "",
  "signature": "sha256:ae1865c8b33342f1768dea5ef7c5d32446708197afc4ae695b728498fc939559"
 },
 "nbformat": 3,
 "nbformat_minor": 0,
 "worksheets": [
  {
   "cells": [
    {
     "cell_type": "heading",
     "level": 1,
     "metadata": {},
     "source": [
      "Import library and setup"
     ]
    },
    {
     "cell_type": "code",
     "collapsed": false,
     "input": [
      "%matplotlib inline\n",
      "\n",
      "import os\n",
      "from math import sqrt\n",
      "import numpy as np\n",
      "import matplotlib\n",
      "import matplotlib.pyplot as plt\n",
      "\n",
      "fig_directory = '../figures'\n",
      "if not os.path.exists(fig_directory):\n",
      "    os.makedirs(fig_directory)\n",
      "\n",
      "save_fig = True\n",
      "fig_size = (6, 4.5)\n",
      "fig_dpi = 200"
     ],
     "language": "python",
     "metadata": {},
     "outputs": [],
     "prompt_number": 1
    },
    {
     "cell_type": "heading",
     "level": 1,
     "metadata": {},
     "source": [
      "Sample function"
     ]
    },
    {
     "cell_type": "code",
     "collapsed": false,
     "input": [
      "N = 100\n",
      "\n",
      "def sample_x1(size=N):\n",
      "    return np.random.normal(loc=3,scale=sqrt(9),size=size)\n",
      "\n",
      "def sample_x2(size=N):\n",
      "    x1 = sample_x1(size)\n",
      "    return 0.5 * x1 + np.random.normal(loc=4,scale=sqrt(4),size=size)"
     ],
     "language": "python",
     "metadata": {},
     "outputs": [],
     "prompt_number": 2
    },
    {
     "cell_type": "heading",
     "level": 1,
     "metadata": {},
     "source": [
      "Sample data"
     ]
    },
    {
     "cell_type": "code",
     "collapsed": false,
     "input": [
      "x1_data = sample_x1()\n",
      "x2_data = sample_x2()\n",
      "data = np.vstack((x1_data,x2_data))"
     ],
     "language": "python",
     "metadata": {},
     "outputs": [],
     "prompt_number": 3
    },
    {
     "cell_type": "heading",
     "level": 1,
     "metadata": {},
     "source": [
      "Calculate stats and eigens"
     ]
    },
    {
     "cell_type": "code",
     "collapsed": false,
     "input": [
      "stats = {\n",
      "    'mean':np.mean(data,axis=1),\n",
      "    'cov':np.cov(data)\n",
      "}\n",
      "\n",
      "cov_eig_values, cov_eig_vectors = np.linalg.eig(stats['cov'])"
     ],
     "language": "python",
     "metadata": {},
     "outputs": [],
     "prompt_number": 4
    },
    {
     "cell_type": "heading",
     "level": 1,
     "metadata": {},
     "source": [
      "Plot original data with eigenvectors"
     ]
    },
    {
     "cell_type": "code",
     "collapsed": false,
     "input": [
      "fig = plt.figure(figsize=fig_size)\n",
      "plt.title('Original')\n",
      "plt.xlim(-15.0, 15.0)\n",
      "plt.ylim(-15.0, 15.0)\n",
      "plt.xlabel('X1')\n",
      "plt.ylabel('X2')\n",
      "plt.scatter(x1_data,x2_data)\n",
      "plt.quiver([stats['mean'][0], stats['mean'][0]],\n",
      "           [stats['mean'][1], stats['mean'][1]],\n",
      "           [cov_eig_vectors[0,0]*cov_eig_values[0],cov_eig_vectors[0,1]*cov_eig_values[1]],\n",
      "           [cov_eig_vectors[1,0]*cov_eig_values[0],cov_eig_vectors[1,1]*cov_eig_values[1]],\n",
      "           color='r', width=0.005)\n",
      "plt.grid()\n",
      "plt.show()\n",
      "if save_fig:\n",
      "    fig.savefig('{0}/original.png'.format(fig_directory), dpi=fig_dpi)"
     ],
     "language": "python",
     "metadata": {},
     "outputs": [
      {
       "metadata": {},
       "output_type": "display_data",
       "png": "[encoded data removed]",
       "text": [
        "<matplotlib.figure.Figure at 0x10fa5a1d0>"
       ]
      }
     ],
     "prompt_number": 5
    },
    {
     "cell_type": "heading",
     "level": 1,
     "metadata": {},
     "source": [
      "Plot transformed data"
     ]
    },
    {
     "cell_type": "code",
     "collapsed": false,
     "input": [
      "U = cov_eig_vectors[:,cov_eig_values.argsort()[::-1]]\n",
      "UT = U.T\n",
      "\n",
      "for i in xrange(data.shape[1]):\n",
      "    data[:,i] -= stats['mean']\n",
      "    data[:,i] = np.dot(UT, data[:,i])\n",
      "\n",
      "fig = plt.figure(figsize=fig_size)\n",
      "plt.title('Transformed')\n",
      "plt.xlim(-15.0, 15.0)\n",
      "plt.ylim(-15.0, 15.0)\n",
      "plt.xlabel('Transformed X1')\n",
      "plt.ylabel('Transformed X2')\n",
      "plt.scatter(data[0],data[1])\n",
      "plt.grid()\n",
      "plt.show();\n",
      "if save_fig:\n",
      "    fig.savefig('{0}/transformed.png'.format(fig_directory), dpi=fig_dpi)"
     ],
     "language": "python",
     "metadata": {},
     "outputs": [
      {
       "metadata": {},
       "output_type": "display_data",
       "png": "[encoded data removed]",
       "text": [
        "<matplotlib.figure.Figure at 0x10fa9cfd0>"
       ]
      }
     ],
     "prompt_number": 6
    },
    {
     "cell_type": "code",
     "collapsed": false,
     "input": [],
     "language": "python",
     "metadata": {},
     "outputs": [],
     "prompt_number": 6
    }
   ],
   "metadata": {}
  }
 ]
}